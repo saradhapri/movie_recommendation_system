{
 "cells": [
  {
   "cell_type": "markdown",
   "id": "970aaa67",
   "metadata": {},
   "source": [
    "#  Movie Recommendation System (Content-Based Filtering)\n",
    "\n",
    "### This project recommends movies similar to a given movie using \"Content-Based Filtering\" on the TMDB 5000 Movie Dataset."
   ]
  },
  {
   "cell_type": "markdown",
   "id": "a68e9de4",
   "metadata": {},
   "source": [
    "## Step 1: Import Libraries"
   ]
  },
  {
   "cell_type": "code",
   "execution_count": 1,
   "id": "7f37908e",
   "metadata": {},
   "outputs": [],
   "source": [
    "import pandas as pd\n",
    "import numpy as np\n",
    "import ast\n",
    "import re\n",
    "from sklearn.feature_extraction.text import CountVectorizer\n",
    "from sklearn.metrics.pairwise import cosine_similarity\n"
   ]
  },
  {
   "cell_type": "markdown",
   "id": "e846eaa4",
   "metadata": {},
   "source": [
    "## Step 2: Load Datasets"
   ]
  },
  {
   "cell_type": "code",
   "execution_count": 2,
   "id": "e4584d66",
   "metadata": {},
   "outputs": [
    {
     "name": "stdout",
     "output_type": "stream",
     "text": [
      "Movies shape: (4803, 20)\n",
      "Credits shape: (4803, 4)\n"
     ]
    },
    {
     "data": {
      "text/html": [
       "<div>\n",
       "<style scoped>\n",
       "    .dataframe tbody tr th:only-of-type {\n",
       "        vertical-align: middle;\n",
       "    }\n",
       "\n",
       "    .dataframe tbody tr th {\n",
       "        vertical-align: top;\n",
       "    }\n",
       "\n",
       "    .dataframe thead th {\n",
       "        text-align: right;\n",
       "    }\n",
       "</style>\n",
       "<table border=\"1\" class=\"dataframe\">\n",
       "  <thead>\n",
       "    <tr style=\"text-align: right;\">\n",
       "      <th></th>\n",
       "      <th>budget</th>\n",
       "      <th>genres</th>\n",
       "      <th>homepage</th>\n",
       "      <th>id</th>\n",
       "      <th>keywords</th>\n",
       "      <th>original_language</th>\n",
       "      <th>original_title</th>\n",
       "      <th>overview</th>\n",
       "      <th>popularity</th>\n",
       "      <th>production_companies</th>\n",
       "      <th>production_countries</th>\n",
       "      <th>release_date</th>\n",
       "      <th>revenue</th>\n",
       "      <th>runtime</th>\n",
       "      <th>spoken_languages</th>\n",
       "      <th>status</th>\n",
       "      <th>tagline</th>\n",
       "      <th>title</th>\n",
       "      <th>vote_average</th>\n",
       "      <th>vote_count</th>\n",
       "    </tr>\n",
       "  </thead>\n",
       "  <tbody>\n",
       "    <tr>\n",
       "      <th>0</th>\n",
       "      <td>237000000</td>\n",
       "      <td>[{\"id\": 28, \"name\": \"Action\"}, {\"id\": 12, \"nam...</td>\n",
       "      <td>http://www.avatarmovie.com/</td>\n",
       "      <td>19995</td>\n",
       "      <td>[{\"id\": 1463, \"name\": \"culture clash\"}, {\"id\":...</td>\n",
       "      <td>en</td>\n",
       "      <td>Avatar</td>\n",
       "      <td>In the 22nd century, a paraplegic Marine is di...</td>\n",
       "      <td>150.437577</td>\n",
       "      <td>[{\"name\": \"Ingenious Film Partners\", \"id\": 289...</td>\n",
       "      <td>[{\"iso_3166_1\": \"US\", \"name\": \"United States o...</td>\n",
       "      <td>2009-12-10</td>\n",
       "      <td>2787965087</td>\n",
       "      <td>162.0</td>\n",
       "      <td>[{\"iso_639_1\": \"en\", \"name\": \"English\"}, {\"iso...</td>\n",
       "      <td>Released</td>\n",
       "      <td>Enter the World of Pandora.</td>\n",
       "      <td>Avatar</td>\n",
       "      <td>7.2</td>\n",
       "      <td>11800</td>\n",
       "    </tr>\n",
       "    <tr>\n",
       "      <th>1</th>\n",
       "      <td>300000000</td>\n",
       "      <td>[{\"id\": 12, \"name\": \"Adventure\"}, {\"id\": 14, \"...</td>\n",
       "      <td>http://disney.go.com/disneypictures/pirates/</td>\n",
       "      <td>285</td>\n",
       "      <td>[{\"id\": 270, \"name\": \"ocean\"}, {\"id\": 726, \"na...</td>\n",
       "      <td>en</td>\n",
       "      <td>Pirates of the Caribbean: At World's End</td>\n",
       "      <td>Captain Barbossa, long believed to be dead, ha...</td>\n",
       "      <td>139.082615</td>\n",
       "      <td>[{\"name\": \"Walt Disney Pictures\", \"id\": 2}, {\"...</td>\n",
       "      <td>[{\"iso_3166_1\": \"US\", \"name\": \"United States o...</td>\n",
       "      <td>2007-05-19</td>\n",
       "      <td>961000000</td>\n",
       "      <td>169.0</td>\n",
       "      <td>[{\"iso_639_1\": \"en\", \"name\": \"English\"}]</td>\n",
       "      <td>Released</td>\n",
       "      <td>At the end of the world, the adventure begins.</td>\n",
       "      <td>Pirates of the Caribbean: At World's End</td>\n",
       "      <td>6.9</td>\n",
       "      <td>4500</td>\n",
       "    </tr>\n",
       "  </tbody>\n",
       "</table>\n",
       "</div>"
      ],
      "text/plain": [
       "      budget                                             genres  \\\n",
       "0  237000000  [{\"id\": 28, \"name\": \"Action\"}, {\"id\": 12, \"nam...   \n",
       "1  300000000  [{\"id\": 12, \"name\": \"Adventure\"}, {\"id\": 14, \"...   \n",
       "\n",
       "                                       homepage     id  \\\n",
       "0                   http://www.avatarmovie.com/  19995   \n",
       "1  http://disney.go.com/disneypictures/pirates/    285   \n",
       "\n",
       "                                            keywords original_language  \\\n",
       "0  [{\"id\": 1463, \"name\": \"culture clash\"}, {\"id\":...                en   \n",
       "1  [{\"id\": 270, \"name\": \"ocean\"}, {\"id\": 726, \"na...                en   \n",
       "\n",
       "                             original_title  \\\n",
       "0                                    Avatar   \n",
       "1  Pirates of the Caribbean: At World's End   \n",
       "\n",
       "                                            overview  popularity  \\\n",
       "0  In the 22nd century, a paraplegic Marine is di...  150.437577   \n",
       "1  Captain Barbossa, long believed to be dead, ha...  139.082615   \n",
       "\n",
       "                                production_companies  \\\n",
       "0  [{\"name\": \"Ingenious Film Partners\", \"id\": 289...   \n",
       "1  [{\"name\": \"Walt Disney Pictures\", \"id\": 2}, {\"...   \n",
       "\n",
       "                                production_countries release_date     revenue  \\\n",
       "0  [{\"iso_3166_1\": \"US\", \"name\": \"United States o...   2009-12-10  2787965087   \n",
       "1  [{\"iso_3166_1\": \"US\", \"name\": \"United States o...   2007-05-19   961000000   \n",
       "\n",
       "   runtime                                   spoken_languages    status  \\\n",
       "0    162.0  [{\"iso_639_1\": \"en\", \"name\": \"English\"}, {\"iso...  Released   \n",
       "1    169.0           [{\"iso_639_1\": \"en\", \"name\": \"English\"}]  Released   \n",
       "\n",
       "                                          tagline  \\\n",
       "0                     Enter the World of Pandora.   \n",
       "1  At the end of the world, the adventure begins.   \n",
       "\n",
       "                                      title  vote_average  vote_count  \n",
       "0                                    Avatar           7.2       11800  \n",
       "1  Pirates of the Caribbean: At World's End           6.9        4500  "
      ]
     },
     "execution_count": 2,
     "metadata": {},
     "output_type": "execute_result"
    }
   ],
   "source": [
    "movies = pd.read_csv(\"tmdb_5000_movies.csv\")\n",
    "credits = pd.read_csv(\"tmdb_5000_credits.csv\")\n",
    "\n",
    "print(\"Movies shape:\", movies.shape)\n",
    "print(\"Credits shape:\", credits.shape)\n",
    "\n",
    "movies.head(2)\n"
   ]
  },
  {
   "cell_type": "markdown",
   "id": "98347ffe",
   "metadata": {},
   "source": [
    "##  Step 3: Merge Datasets and Fix Title Column"
   ]
  },
  {
   "cell_type": "code",
   "execution_count": 13,
   "id": "ddd1bfab",
   "metadata": {},
   "outputs": [
    {
     "data": {
      "text/html": [
       "<div>\n",
       "<style scoped>\n",
       "    .dataframe tbody tr th:only-of-type {\n",
       "        vertical-align: middle;\n",
       "    }\n",
       "\n",
       "    .dataframe tbody tr th {\n",
       "        vertical-align: top;\n",
       "    }\n",
       "\n",
       "    .dataframe thead th {\n",
       "        text-align: right;\n",
       "    }\n",
       "</style>\n",
       "<table border=\"1\" class=\"dataframe\">\n",
       "  <thead>\n",
       "    <tr style=\"text-align: right;\">\n",
       "      <th></th>\n",
       "      <th>id</th>\n",
       "      <th>title</th>\n",
       "      <th>overview</th>\n",
       "      <th>genres</th>\n",
       "      <th>keywords</th>\n",
       "      <th>cast</th>\n",
       "      <th>crew</th>\n",
       "    </tr>\n",
       "  </thead>\n",
       "  <tbody>\n",
       "    <tr>\n",
       "      <th>0</th>\n",
       "      <td>19995</td>\n",
       "      <td>Avatar</td>\n",
       "      <td>In the 22nd century, a paraplegic Marine is di...</td>\n",
       "      <td>[{\"id\": 28, \"name\": \"Action\"}, {\"id\": 12, \"nam...</td>\n",
       "      <td>[{\"id\": 1463, \"name\": \"culture clash\"}, {\"id\":...</td>\n",
       "      <td>[{\"cast_id\": 242, \"character\": \"Jake Sully\", \"...</td>\n",
       "      <td>[{\"credit_id\": \"52fe48009251416c750aca23\", \"de...</td>\n",
       "    </tr>\n",
       "    <tr>\n",
       "      <th>1</th>\n",
       "      <td>285</td>\n",
       "      <td>Pirates of the Caribbean: At World's End</td>\n",
       "      <td>Captain Barbossa, long believed to be dead, ha...</td>\n",
       "      <td>[{\"id\": 12, \"name\": \"Adventure\"}, {\"id\": 14, \"...</td>\n",
       "      <td>[{\"id\": 270, \"name\": \"ocean\"}, {\"id\": 726, \"na...</td>\n",
       "      <td>[{\"cast_id\": 4, \"character\": \"Captain Jack Spa...</td>\n",
       "      <td>[{\"credit_id\": \"52fe4232c3a36847f800b579\", \"de...</td>\n",
       "    </tr>\n",
       "  </tbody>\n",
       "</table>\n",
       "</div>"
      ],
      "text/plain": [
       "      id                                     title  \\\n",
       "0  19995                                    Avatar   \n",
       "1    285  Pirates of the Caribbean: At World's End   \n",
       "\n",
       "                                            overview  \\\n",
       "0  In the 22nd century, a paraplegic Marine is di...   \n",
       "1  Captain Barbossa, long believed to be dead, ha...   \n",
       "\n",
       "                                              genres  \\\n",
       "0  [{\"id\": 28, \"name\": \"Action\"}, {\"id\": 12, \"nam...   \n",
       "1  [{\"id\": 12, \"name\": \"Adventure\"}, {\"id\": 14, \"...   \n",
       "\n",
       "                                            keywords  \\\n",
       "0  [{\"id\": 1463, \"name\": \"culture clash\"}, {\"id\":...   \n",
       "1  [{\"id\": 270, \"name\": \"ocean\"}, {\"id\": 726, \"na...   \n",
       "\n",
       "                                                cast  \\\n",
       "0  [{\"cast_id\": 242, \"character\": \"Jake Sully\", \"...   \n",
       "1  [{\"cast_id\": 4, \"character\": \"Captain Jack Spa...   \n",
       "\n",
       "                                                crew  \n",
       "0  [{\"credit_id\": \"52fe48009251416c750aca23\", \"de...  \n",
       "1  [{\"credit_id\": \"52fe4232c3a36847f800b579\", \"de...  "
      ]
     },
     "execution_count": 13,
     "metadata": {},
     "output_type": "execute_result"
    }
   ],
   "source": [
    "# Merge datasets correctly\n",
    "credits = credits.rename(columns={'movie_id':'id'})\n",
    "df = movies.merge(credits, on='id')\n",
    "\n",
    "# Pick the right title column\n",
    "if 'title' in df.columns:\n",
    "    df = df[['id','title','overview','genres','keywords','cast','crew']]\n",
    "else:\n",
    "    df = df[['id','original_title','overview','genres','keywords','cast','crew']]\n",
    "    df = df.rename(columns={'original_title':'title'})\n",
    "\n",
    "df.head(2)\n"
   ]
  },
  {
   "cell_type": "markdown",
   "id": "29e6b31c",
   "metadata": {},
   "source": [
    "## Step 4: Define Helper Functions for Data Preprocessing"
   ]
  },
  {
   "cell_type": "code",
   "execution_count": 4,
   "id": "ecb594d7",
   "metadata": {},
   "outputs": [],
   "source": [
    "def convert_to_list_of_names(text):\n",
    "    if pd.isna(text):\n",
    "        return []\n",
    "    try:\n",
    "        data = ast.literal_eval(text)\n",
    "    except Exception:\n",
    "        return []\n",
    "    return [i['name'] for i in data if 'name' in i]\n",
    "\n",
    "def get_top_cast(text, top_n=3):\n",
    "    if pd.isna(text):\n",
    "        return []\n",
    "    try:\n",
    "        data = ast.literal_eval(text)\n",
    "    except Exception:\n",
    "        return []\n",
    "    return [i['name'] for i in data[:top_n]]\n",
    "\n",
    "def get_director(text):\n",
    "    if pd.isna(text):\n",
    "        return []\n",
    "    try:\n",
    "        data = ast.literal_eval(text)\n",
    "    except Exception:\n",
    "        return []\n",
    "    return [i['name'] for i in data if i.get('job') == 'Director']\n",
    "\n",
    "def clean_text(text):\n",
    "    if not isinstance(text, str):\n",
    "        return \"\"\n",
    "    text = text.lower()\n",
    "    text = re.sub(r'[^a-z0-9\\s]', ' ', text)\n",
    "    return text\n"
   ]
  },
  {
   "cell_type": "markdown",
   "id": "17944d74",
   "metadata": {},
   "source": [
    "## Data Cleaning and Feature Engineering for Movie Tags"
   ]
  },
  {
   "cell_type": "code",
   "execution_count": 5,
   "id": "8bd91ff3",
   "metadata": {},
   "outputs": [
    {
     "data": {
      "text/html": [
       "<div>\n",
       "<style scoped>\n",
       "    .dataframe tbody tr th:only-of-type {\n",
       "        vertical-align: middle;\n",
       "    }\n",
       "\n",
       "    .dataframe tbody tr th {\n",
       "        vertical-align: top;\n",
       "    }\n",
       "\n",
       "    .dataframe thead th {\n",
       "        text-align: right;\n",
       "    }\n",
       "</style>\n",
       "<table border=\"1\" class=\"dataframe\">\n",
       "  <thead>\n",
       "    <tr style=\"text-align: right;\">\n",
       "      <th></th>\n",
       "      <th>id</th>\n",
       "      <th>title</th>\n",
       "      <th>tags</th>\n",
       "    </tr>\n",
       "  </thead>\n",
       "  <tbody>\n",
       "    <tr>\n",
       "      <th>0</th>\n",
       "      <td>19995</td>\n",
       "      <td>Avatar</td>\n",
       "      <td>in the 22nd century  a paraplegic marine is di...</td>\n",
       "    </tr>\n",
       "    <tr>\n",
       "      <th>1</th>\n",
       "      <td>285</td>\n",
       "      <td>Pirates of the Caribbean: At World's End</td>\n",
       "      <td>captain barbossa  long believed to be dead  ha...</td>\n",
       "    </tr>\n",
       "  </tbody>\n",
       "</table>\n",
       "</div>"
      ],
      "text/plain": [
       "      id                                     title  \\\n",
       "0  19995                                    Avatar   \n",
       "1    285  Pirates of the Caribbean: At World's End   \n",
       "\n",
       "                                                tags  \n",
       "0  in the 22nd century  a paraplegic marine is di...  \n",
       "1  captain barbossa  long believed to be dead  ha...  "
      ]
     },
     "execution_count": 5,
     "metadata": {},
     "output_type": "execute_result"
    }
   ],
   "source": [
    "df['overview'] = df['overview'].fillna(\"\")\n",
    "\n",
    "df['genres'] = df['genres'].apply(convert_to_list_of_names)\n",
    "df['keywords'] = df['keywords'].apply(convert_to_list_of_names)\n",
    "df['cast'] = df['cast'].apply(lambda x: get_top_cast(x, top_n=3))\n",
    "df['crew'] = df['crew'].apply(get_director)\n",
    "\n",
    "df['overview'] = df['overview'].apply(clean_text)\n",
    "\n",
    "# Remove spaces in names (Tom Cruise -> tomcruise)\n",
    "def collapse_names(x):\n",
    "    return [i.replace(\" \",\"\").lower() for i in x]\n",
    "\n",
    "df['genres'] = df['genres'].apply(collapse_names)\n",
    "df['keywords'] = df['keywords'].apply(collapse_names)\n",
    "df['cast'] = df['cast'].apply(collapse_names)\n",
    "df['crew'] = df['crew'].apply(collapse_names)\n",
    "\n",
    "df['tags'] = df['overview'] + \" \" + df['genres'].apply(lambda x: \" \".join(x)) + \" \" + df['keywords'].apply(lambda x: \" \".join(x)) + \" \" + df['cast'].apply(lambda x: \" \".join(x)) + \" \" + df['crew'].apply(lambda x: \" \".join(x))\n",
    "\n",
    "df_small = df[['id','title','tags']]\n",
    "df_small.head(2)\n"
   ]
  },
  {
   "cell_type": "markdown",
   "id": "3e532c8b",
   "metadata": {},
   "source": [
    "## Step 6: Vectorization of Tags"
   ]
  },
  {
   "cell_type": "code",
   "execution_count": 6,
   "id": "511072aa",
   "metadata": {},
   "outputs": [
    {
     "name": "stdout",
     "output_type": "stream",
     "text": [
      "Shape of Vectors: (4803, 5000)\n"
     ]
    }
   ],
   "source": [
    "cv = CountVectorizer(max_features=5000, stop_words='english')\n",
    "vectors = cv.fit_transform(df_small['tags']).toarray()\n",
    "\n",
    "print(\"Shape of Vectors:\", vectors.shape)\n"
   ]
  },
  {
   "cell_type": "markdown",
   "id": "787f3820",
   "metadata": {},
   "source": [
    "## Step 7: Compute Cosine Similarity Matrix"
   ]
  },
  {
   "cell_type": "code",
   "execution_count": 7,
   "id": "2f868250",
   "metadata": {},
   "outputs": [
    {
     "name": "stdout",
     "output_type": "stream",
     "text": [
      "Similarity matrix shape: (4803, 4803)\n"
     ]
    }
   ],
   "source": [
    "similarity = cosine_similarity(vectors)\n",
    "print(\"Similarity matrix shape:\", similarity.shape)\n"
   ]
  },
  {
   "cell_type": "markdown",
   "id": "1d29703a",
   "metadata": {},
   "source": [
    "## Step 8: Build Movie Recommendation Function"
   ]
  },
  {
   "cell_type": "code",
   "execution_count": 8,
   "id": "50b60b40",
   "metadata": {},
   "outputs": [],
   "source": [
    "def recommend(movie, top_n=10):\n",
    "    # find index of movie\n",
    "    movie = movie.lower()\n",
    "    indices = df_small[df_small['title'].str.lower() == movie].index\n",
    "    if len(indices) == 0:\n",
    "        print(f\"Movie '{movie}' not found!\")\n",
    "        return\n",
    "    index = indices[0]\n",
    "\n",
    "    distances = list(enumerate(similarity[index]))\n",
    "    distances = sorted(distances, key=lambda x: x[1], reverse=True)\n",
    "\n",
    "    print(f\"\\nTop {top_n} recommendations for '{df_small.iloc[index].title}':\")\n",
    "    for i in distances[1:top_n+1]:\n",
    "        print(df_small.iloc[i[0]].title)\n"
   ]
  },
  {
   "cell_type": "markdown",
   "id": "f8755d9b",
   "metadata": {},
   "source": [
    "## Step 9: Test the Movie Recommender"
   ]
  },
  {
   "cell_type": "markdown",
   "id": "65103ffc",
   "metadata": {},
   "source": [
    "### Test the recommender by inputting a movie name.  \n",
    "### Display the top N similar movies based on content-based filtering."
   ]
  },
  {
   "cell_type": "code",
   "execution_count": 9,
   "id": "d58b35b8",
   "metadata": {},
   "outputs": [
    {
     "name": "stdout",
     "output_type": "stream",
     "text": [
      "\n",
      "Top 5 recommendations for 'Avatar':\n",
      "Titan A.E.\n",
      "Independence Day\n",
      "Small Soldiers\n",
      "Aliens vs Predator: Requiem\n",
      "Ender's Game\n"
     ]
    }
   ],
   "source": [
    "recommend(\"Avatar\", top_n=5)"
   ]
  },
  {
   "cell_type": "markdown",
   "id": "9ebeb6f1",
   "metadata": {},
   "source": [
    "## Step 10: Additional Test of Movie Recommender"
   ]
  },
  {
   "cell_type": "code",
   "execution_count": 10,
   "id": "43bea5fd",
   "metadata": {
    "scrolled": true
   },
   "outputs": [
    {
     "name": "stdout",
     "output_type": "stream",
     "text": [
      "\n",
      "Top 10 recommendations for 'The Dark Knight':\n",
      "The Dark Knight Rises\n",
      "Batman Begins\n",
      "Batman Returns\n",
      "Batman Forever\n",
      "Batman & Robin\n",
      "Amidst the Devil's Wings\n",
      "Batman v Superman: Dawn of Justice\n",
      "Batman: The Dark Knight Returns, Part 2\n",
      "Batman\n",
      "Jerusalema\n"
     ]
    }
   ],
   "source": [
    "recommend(\"The Dark Knight\")"
   ]
  },
  {
   "cell_type": "code",
   "execution_count": 14,
   "id": "3f246198",
   "metadata": {},
   "outputs": [],
   "source": [
    "# This code should be added to the end of your Jupyter notebook after computing df_small and similarity\n",
    "import pickle\n",
    "\n",
    "# Save the movie dataframe and similarity matrix as pickle files\n",
    "pickle.dump(df_small, open('models/movies.pkl', 'wb'))\n",
    "pickle.dump(similarity, open('models/similarity.pkl', 'wb'))"
   ]
  },
  {
   "cell_type": "code",
   "execution_count": null,
   "id": "7d1baed6",
   "metadata": {},
   "outputs": [],
   "source": []
  },
  {
   "cell_type": "code",
   "execution_count": null,
   "id": "a4b21c5b",
   "metadata": {},
   "outputs": [],
   "source": []
  }
 ],
 "metadata": {
  "kernelspec": {
   "display_name": "Python 3 (ipykernel)",
   "language": "python",
   "name": "python3"
  },
  "language_info": {
   "codemirror_mode": {
    "name": "ipython",
    "version": 3
   },
   "file_extension": ".py",
   "mimetype": "text/x-python",
   "name": "python",
   "nbconvert_exporter": "python",
   "pygments_lexer": "ipython3",
   "version": "3.11.5"
  }
 },
 "nbformat": 4,
 "nbformat_minor": 5
}
